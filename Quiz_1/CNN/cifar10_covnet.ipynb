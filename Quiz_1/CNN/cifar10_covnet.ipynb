{
  "nbformat": 4,
  "nbformat_minor": 0,
  "metadata": {
    "colab": {
      "provenance": [],
      "gpuType": "T4",
      "authorship_tag": "ABX9TyP/Ak44ruVu/bzoe0cJqK+E",
      "include_colab_link": true
    },
    "kernelspec": {
      "name": "python3",
      "display_name": "Python 3"
    },
    "language_info": {
      "name": "python"
    },
    "accelerator": "GPU"
  },
  "cells": [
    {
      "cell_type": "markdown",
      "metadata": {
        "id": "view-in-github",
        "colab_type": "text"
      },
      "source": [
        "<a href=\"https://colab.research.google.com/github/promihamid/CSE468/blob/main/cifar10_covnet.ipynb\" target=\"_parent\"><img src=\"https://colab.research.google.com/assets/colab-badge.svg\" alt=\"Open In Colab\"/></a>"
      ]
    },
    {
      "cell_type": "markdown",
      "source": [
        "#Load and Preprocess Data"
      ],
      "metadata": {
        "id": "_yui9GK_5nh7"
      }
    },
    {
      "cell_type": "code",
      "execution_count": 1,
      "metadata": {
        "colab": {
          "base_uri": "https://localhost:8080/"
        },
        "id": "Zcy88XrS5WzE",
        "outputId": "9bf8aabe-a778-4098-e55f-4f3be5408138"
      },
      "outputs": [
        {
          "output_type": "stream",
          "name": "stdout",
          "text": [
            "Downloading data from https://www.cs.toronto.edu/~kriz/cifar-10-python.tar.gz\n",
            "\u001b[1m170498071/170498071\u001b[0m \u001b[32m━━━━━━━━━━━━━━━━━━━━\u001b[0m\u001b[37m\u001b[0m \u001b[1m4s\u001b[0m 0us/step\n"
          ]
        }
      ],
      "source": [
        "import numpy as np\n",
        "import keras\n",
        "from keras import layers\n",
        "\n",
        "# Load CIFAR-10 data\n",
        "(x_train, y_train), (x_test, y_test) = keras.datasets.cifar10.load_data()\n",
        "\n",
        "# Preprocess data\n",
        "x_train = x_train.astype(\"float32\") / 255\n",
        "x_test = x_test.astype(\"float32\") / 255\n",
        "y_train = keras.utils.to_categorical(y_train, 10)\n",
        "y_test = keras.utils.to_categorical(y_test, 10)"
      ]
    },
    {
      "cell_type": "markdown",
      "source": [
        "#Build the model\n"
      ],
      "metadata": {
        "id": "uIOR5WjF5rkQ"
      }
    },
    {
      "cell_type": "code",
      "source": [
        "# Base model (similar to MNIST architecture but for CIFAR-10)\n",
        "base_model = keras.Sequential([\n",
        "    keras.Input(shape=(32, 32, 3)),\n",
        "    layers.Conv2D(32, kernel_size=(3, 3), activation=\"relu\"),\n",
        "    layers.MaxPooling2D(pool_size=(2, 2)),\n",
        "    layers.Conv2D(64, kernel_size=(3, 3), activation=\"relu\"),\n",
        "    layers.MaxPooling2D(pool_size=(2, 2)),\n",
        "    layers.Flatten(),\n",
        "    layers.Dropout(0.5),\n",
        "    layers.Dense(10, activation=\"softmax\"),\n",
        "])\n",
        "\n",
        "base_model.compile(loss=\"categorical_crossentropy\", optimizer=\"adam\", metrics=[\"accuracy\"])\n"
      ],
      "metadata": {
        "id": "h4ZCLNMX5wS7"
      },
      "execution_count": 2,
      "outputs": []
    },
    {
      "cell_type": "markdown",
      "source": [
        "##Train the model"
      ],
      "metadata": {
        "id": "e6p4jn0856Ny"
      }
    },
    {
      "cell_type": "code",
      "source": [
        "# Train base model\n",
        "base_history = base_model.fit(x_train, y_train, batch_size=128, epochs=15, validation_split=0.1, verbose=1)\n"
      ],
      "metadata": {
        "colab": {
          "base_uri": "https://localhost:8080/"
        },
        "id": "nqw1rOIi50an",
        "outputId": "6e7311d4-0df2-4c2a-cf32-04635b72d890"
      },
      "execution_count": 3,
      "outputs": [
        {
          "output_type": "stream",
          "name": "stdout",
          "text": [
            "Epoch 1/15\n",
            "\u001b[1m352/352\u001b[0m \u001b[32m━━━━━━━━━━━━━━━━━━━━\u001b[0m\u001b[37m\u001b[0m \u001b[1m9s\u001b[0m 15ms/step - accuracy: 0.3022 - loss: 1.9156 - val_accuracy: 0.4910 - val_loss: 1.4324\n",
            "Epoch 2/15\n",
            "\u001b[1m352/352\u001b[0m \u001b[32m━━━━━━━━━━━━━━━━━━━━\u001b[0m\u001b[37m\u001b[0m \u001b[1m2s\u001b[0m 5ms/step - accuracy: 0.4861 - loss: 1.4324 - val_accuracy: 0.5438 - val_loss: 1.2988\n",
            "Epoch 3/15\n",
            "\u001b[1m352/352\u001b[0m \u001b[32m━━━━━━━━━━━━━━━━━━━━\u001b[0m\u001b[37m\u001b[0m \u001b[1m2s\u001b[0m 5ms/step - accuracy: 0.5352 - loss: 1.3207 - val_accuracy: 0.5898 - val_loss: 1.1753\n",
            "Epoch 4/15\n",
            "\u001b[1m352/352\u001b[0m \u001b[32m━━━━━━━━━━━━━━━━━━━━\u001b[0m\u001b[37m\u001b[0m \u001b[1m2s\u001b[0m 5ms/step - accuracy: 0.5652 - loss: 1.2506 - val_accuracy: 0.6068 - val_loss: 1.1532\n",
            "Epoch 5/15\n",
            "\u001b[1m352/352\u001b[0m \u001b[32m━━━━━━━━━━━━━━━━━━━━\u001b[0m\u001b[37m\u001b[0m \u001b[1m2s\u001b[0m 5ms/step - accuracy: 0.5846 - loss: 1.1857 - val_accuracy: 0.6328 - val_loss: 1.0785\n",
            "Epoch 6/15\n",
            "\u001b[1m352/352\u001b[0m \u001b[32m━━━━━━━━━━━━━━━━━━━━\u001b[0m\u001b[37m\u001b[0m \u001b[1m2s\u001b[0m 6ms/step - accuracy: 0.6053 - loss: 1.1358 - val_accuracy: 0.6428 - val_loss: 1.0351\n",
            "Epoch 7/15\n",
            "\u001b[1m352/352\u001b[0m \u001b[32m━━━━━━━━━━━━━━━━━━━━\u001b[0m\u001b[37m\u001b[0m \u001b[1m2s\u001b[0m 5ms/step - accuracy: 0.6160 - loss: 1.0984 - val_accuracy: 0.6550 - val_loss: 0.9979\n",
            "Epoch 8/15\n",
            "\u001b[1m352/352\u001b[0m \u001b[32m━━━━━━━━━━━━━━━━━━━━\u001b[0m\u001b[37m\u001b[0m \u001b[1m2s\u001b[0m 5ms/step - accuracy: 0.6297 - loss: 1.0662 - val_accuracy: 0.6622 - val_loss: 0.9862\n",
            "Epoch 9/15\n",
            "\u001b[1m352/352\u001b[0m \u001b[32m━━━━━━━━━━━━━━━━━━━━\u001b[0m\u001b[37m\u001b[0m \u001b[1m2s\u001b[0m 7ms/step - accuracy: 0.6366 - loss: 1.0499 - val_accuracy: 0.6724 - val_loss: 0.9642\n",
            "Epoch 10/15\n",
            "\u001b[1m352/352\u001b[0m \u001b[32m━━━━━━━━━━━━━━━━━━━━\u001b[0m\u001b[37m\u001b[0m \u001b[1m2s\u001b[0m 5ms/step - accuracy: 0.6472 - loss: 1.0174 - val_accuracy: 0.6796 - val_loss: 0.9529\n",
            "Epoch 11/15\n",
            "\u001b[1m352/352\u001b[0m \u001b[32m━━━━━━━━━━━━━━━━━━━━\u001b[0m\u001b[37m\u001b[0m \u001b[1m2s\u001b[0m 5ms/step - accuracy: 0.6493 - loss: 1.0087 - val_accuracy: 0.6764 - val_loss: 0.9412\n",
            "Epoch 12/15\n",
            "\u001b[1m352/352\u001b[0m \u001b[32m━━━━━━━━━━━━━━━━━━━━\u001b[0m\u001b[37m\u001b[0m \u001b[1m2s\u001b[0m 6ms/step - accuracy: 0.6577 - loss: 0.9840 - val_accuracy: 0.6880 - val_loss: 0.9208\n",
            "Epoch 13/15\n",
            "\u001b[1m352/352\u001b[0m \u001b[32m━━━━━━━━━━━━━━━━━━━━\u001b[0m\u001b[37m\u001b[0m \u001b[1m2s\u001b[0m 5ms/step - accuracy: 0.6585 - loss: 0.9825 - val_accuracy: 0.6924 - val_loss: 0.9117\n",
            "Epoch 14/15\n",
            "\u001b[1m352/352\u001b[0m \u001b[32m━━━━━━━━━━━━━━━━━━━━\u001b[0m\u001b[37m\u001b[0m \u001b[1m2s\u001b[0m 5ms/step - accuracy: 0.6654 - loss: 0.9641 - val_accuracy: 0.6956 - val_loss: 0.8950\n",
            "Epoch 15/15\n",
            "\u001b[1m352/352\u001b[0m \u001b[32m━━━━━━━━━━━━━━━━━━━━\u001b[0m\u001b[37m\u001b[0m \u001b[1m2s\u001b[0m 5ms/step - accuracy: 0.6694 - loss: 0.9560 - val_accuracy: 0.7020 - val_loss: 0.8932\n"
          ]
        }
      ]
    },
    {
      "cell_type": "markdown",
      "source": [
        "#Base Accuracy"
      ],
      "metadata": {
        "id": "bui9mncG5-dM"
      }
    },
    {
      "cell_type": "code",
      "source": [
        "\n",
        "base_score = base_model.evaluate(x_test, y_test, verbose=0)\n",
        "print(\"=== BASE MODEL RESULTS ===\")\n",
        "print(\"Test loss:\", base_score[0])\n",
        "print(\"Test accuracy:\", base_score[1])"
      ],
      "metadata": {
        "colab": {
          "base_uri": "https://localhost:8080/"
        },
        "id": "gvdnacGl6DXj",
        "outputId": "6aa50232-ddc6-4e5c-a168-bb53060415ad"
      },
      "execution_count": 4,
      "outputs": [
        {
          "output_type": "stream",
          "name": "stdout",
          "text": [
            "=== BASE MODEL RESULTS ===\n",
            "Test loss: 0.9098132848739624\n",
            "Test accuracy: 0.6863999962806702\n"
          ]
        }
      ]
    }
  ]
}