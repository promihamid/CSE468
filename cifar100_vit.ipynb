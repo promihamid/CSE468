{
  "nbformat": 4,
  "nbformat_minor": 0,
  "metadata": {
    "colab": {
      "provenance": [],
      "gpuType": "T4",
      "authorship_tag": "ABX9TyNh2qSg8g/0Wt8ujQaYCDuH",
      "include_colab_link": true
    },
    "kernelspec": {
      "name": "python3",
      "display_name": "Python 3"
    },
    "language_info": {
      "name": "python"
    },
    "accelerator": "GPU",
    "widgets": {
      "application/vnd.jupyter.widget-state+json": {
        "f8b91ddfd718432189fa49420a5be76b": {
          "model_module": "@jupyter-widgets/controls",
          "model_name": "HBoxModel",
          "model_module_version": "1.5.0",
          "state": {
            "_dom_classes": [],
            "_model_module": "@jupyter-widgets/controls",
            "_model_module_version": "1.5.0",
            "_model_name": "HBoxModel",
            "_view_count": null,
            "_view_module": "@jupyter-widgets/controls",
            "_view_module_version": "1.5.0",
            "_view_name": "HBoxView",
            "box_style": "",
            "children": [
              "IPY_MODEL_2481be2e8da8496ca9c1094ae65ba4fc",
              "IPY_MODEL_3a10e50adeed4525a5e1d13d3f63d2b8",
              "IPY_MODEL_42a75af622a84a4eb3392189896fb561"
            ],
            "layout": "IPY_MODEL_3e25f335807843aebe8adab2b9a66071"
          }
        },
        "2481be2e8da8496ca9c1094ae65ba4fc": {
          "model_module": "@jupyter-widgets/controls",
          "model_name": "HTMLModel",
          "model_module_version": "1.5.0",
          "state": {
            "_dom_classes": [],
            "_model_module": "@jupyter-widgets/controls",
            "_model_module_version": "1.5.0",
            "_model_name": "HTMLModel",
            "_view_count": null,
            "_view_module": "@jupyter-widgets/controls",
            "_view_module_version": "1.5.0",
            "_view_name": "HTMLView",
            "description": "",
            "description_tooltip": null,
            "layout": "IPY_MODEL_12985a2bfc1e47479860c86d393fb57c",
            "placeholder": "​",
            "style": "IPY_MODEL_de3346757fb64962b565762a3073c366",
            "value": "model.safetensors: 100%"
          }
        },
        "3a10e50adeed4525a5e1d13d3f63d2b8": {
          "model_module": "@jupyter-widgets/controls",
          "model_name": "FloatProgressModel",
          "model_module_version": "1.5.0",
          "state": {
            "_dom_classes": [],
            "_model_module": "@jupyter-widgets/controls",
            "_model_module_version": "1.5.0",
            "_model_name": "FloatProgressModel",
            "_view_count": null,
            "_view_module": "@jupyter-widgets/controls",
            "_view_module_version": "1.5.0",
            "_view_name": "ProgressView",
            "bar_style": "success",
            "description": "",
            "description_tooltip": null,
            "layout": "IPY_MODEL_b70cc367dba34a16b8471efd3fa46f06",
            "max": 346284714,
            "min": 0,
            "orientation": "horizontal",
            "style": "IPY_MODEL_0127eeb6fc23413bb69cb512b05f3922",
            "value": 346284714
          }
        },
        "42a75af622a84a4eb3392189896fb561": {
          "model_module": "@jupyter-widgets/controls",
          "model_name": "HTMLModel",
          "model_module_version": "1.5.0",
          "state": {
            "_dom_classes": [],
            "_model_module": "@jupyter-widgets/controls",
            "_model_module_version": "1.5.0",
            "_model_name": "HTMLModel",
            "_view_count": null,
            "_view_module": "@jupyter-widgets/controls",
            "_view_module_version": "1.5.0",
            "_view_name": "HTMLView",
            "description": "",
            "description_tooltip": null,
            "layout": "IPY_MODEL_05c64d3818264ea4b6dacec9266d7a4e",
            "placeholder": "​",
            "style": "IPY_MODEL_4cd4b3c99ba7412a9cc12c95c24a6dc0",
            "value": " 346M/346M [00:03&lt;00:00, 173MB/s]"
          }
        },
        "3e25f335807843aebe8adab2b9a66071": {
          "model_module": "@jupyter-widgets/base",
          "model_name": "LayoutModel",
          "model_module_version": "1.2.0",
          "state": {
            "_model_module": "@jupyter-widgets/base",
            "_model_module_version": "1.2.0",
            "_model_name": "LayoutModel",
            "_view_count": null,
            "_view_module": "@jupyter-widgets/base",
            "_view_module_version": "1.2.0",
            "_view_name": "LayoutView",
            "align_content": null,
            "align_items": null,
            "align_self": null,
            "border": null,
            "bottom": null,
            "display": null,
            "flex": null,
            "flex_flow": null,
            "grid_area": null,
            "grid_auto_columns": null,
            "grid_auto_flow": null,
            "grid_auto_rows": null,
            "grid_column": null,
            "grid_gap": null,
            "grid_row": null,
            "grid_template_areas": null,
            "grid_template_columns": null,
            "grid_template_rows": null,
            "height": null,
            "justify_content": null,
            "justify_items": null,
            "left": null,
            "margin": null,
            "max_height": null,
            "max_width": null,
            "min_height": null,
            "min_width": null,
            "object_fit": null,
            "object_position": null,
            "order": null,
            "overflow": null,
            "overflow_x": null,
            "overflow_y": null,
            "padding": null,
            "right": null,
            "top": null,
            "visibility": null,
            "width": null
          }
        },
        "12985a2bfc1e47479860c86d393fb57c": {
          "model_module": "@jupyter-widgets/base",
          "model_name": "LayoutModel",
          "model_module_version": "1.2.0",
          "state": {
            "_model_module": "@jupyter-widgets/base",
            "_model_module_version": "1.2.0",
            "_model_name": "LayoutModel",
            "_view_count": null,
            "_view_module": "@jupyter-widgets/base",
            "_view_module_version": "1.2.0",
            "_view_name": "LayoutView",
            "align_content": null,
            "align_items": null,
            "align_self": null,
            "border": null,
            "bottom": null,
            "display": null,
            "flex": null,
            "flex_flow": null,
            "grid_area": null,
            "grid_auto_columns": null,
            "grid_auto_flow": null,
            "grid_auto_rows": null,
            "grid_column": null,
            "grid_gap": null,
            "grid_row": null,
            "grid_template_areas": null,
            "grid_template_columns": null,
            "grid_template_rows": null,
            "height": null,
            "justify_content": null,
            "justify_items": null,
            "left": null,
            "margin": null,
            "max_height": null,
            "max_width": null,
            "min_height": null,
            "min_width": null,
            "object_fit": null,
            "object_position": null,
            "order": null,
            "overflow": null,
            "overflow_x": null,
            "overflow_y": null,
            "padding": null,
            "right": null,
            "top": null,
            "visibility": null,
            "width": null
          }
        },
        "de3346757fb64962b565762a3073c366": {
          "model_module": "@jupyter-widgets/controls",
          "model_name": "DescriptionStyleModel",
          "model_module_version": "1.5.0",
          "state": {
            "_model_module": "@jupyter-widgets/controls",
            "_model_module_version": "1.5.0",
            "_model_name": "DescriptionStyleModel",
            "_view_count": null,
            "_view_module": "@jupyter-widgets/base",
            "_view_module_version": "1.2.0",
            "_view_name": "StyleView",
            "description_width": ""
          }
        },
        "b70cc367dba34a16b8471efd3fa46f06": {
          "model_module": "@jupyter-widgets/base",
          "model_name": "LayoutModel",
          "model_module_version": "1.2.0",
          "state": {
            "_model_module": "@jupyter-widgets/base",
            "_model_module_version": "1.2.0",
            "_model_name": "LayoutModel",
            "_view_count": null,
            "_view_module": "@jupyter-widgets/base",
            "_view_module_version": "1.2.0",
            "_view_name": "LayoutView",
            "align_content": null,
            "align_items": null,
            "align_self": null,
            "border": null,
            "bottom": null,
            "display": null,
            "flex": null,
            "flex_flow": null,
            "grid_area": null,
            "grid_auto_columns": null,
            "grid_auto_flow": null,
            "grid_auto_rows": null,
            "grid_column": null,
            "grid_gap": null,
            "grid_row": null,
            "grid_template_areas": null,
            "grid_template_columns": null,
            "grid_template_rows": null,
            "height": null,
            "justify_content": null,
            "justify_items": null,
            "left": null,
            "margin": null,
            "max_height": null,
            "max_width": null,
            "min_height": null,
            "min_width": null,
            "object_fit": null,
            "object_position": null,
            "order": null,
            "overflow": null,
            "overflow_x": null,
            "overflow_y": null,
            "padding": null,
            "right": null,
            "top": null,
            "visibility": null,
            "width": null
          }
        },
        "0127eeb6fc23413bb69cb512b05f3922": {
          "model_module": "@jupyter-widgets/controls",
          "model_name": "ProgressStyleModel",
          "model_module_version": "1.5.0",
          "state": {
            "_model_module": "@jupyter-widgets/controls",
            "_model_module_version": "1.5.0",
            "_model_name": "ProgressStyleModel",
            "_view_count": null,
            "_view_module": "@jupyter-widgets/base",
            "_view_module_version": "1.2.0",
            "_view_name": "StyleView",
            "bar_color": null,
            "description_width": ""
          }
        },
        "05c64d3818264ea4b6dacec9266d7a4e": {
          "model_module": "@jupyter-widgets/base",
          "model_name": "LayoutModel",
          "model_module_version": "1.2.0",
          "state": {
            "_model_module": "@jupyter-widgets/base",
            "_model_module_version": "1.2.0",
            "_model_name": "LayoutModel",
            "_view_count": null,
            "_view_module": "@jupyter-widgets/base",
            "_view_module_version": "1.2.0",
            "_view_name": "LayoutView",
            "align_content": null,
            "align_items": null,
            "align_self": null,
            "border": null,
            "bottom": null,
            "display": null,
            "flex": null,
            "flex_flow": null,
            "grid_area": null,
            "grid_auto_columns": null,
            "grid_auto_flow": null,
            "grid_auto_rows": null,
            "grid_column": null,
            "grid_gap": null,
            "grid_row": null,
            "grid_template_areas": null,
            "grid_template_columns": null,
            "grid_template_rows": null,
            "height": null,
            "justify_content": null,
            "justify_items": null,
            "left": null,
            "margin": null,
            "max_height": null,
            "max_width": null,
            "min_height": null,
            "min_width": null,
            "object_fit": null,
            "object_position": null,
            "order": null,
            "overflow": null,
            "overflow_x": null,
            "overflow_y": null,
            "padding": null,
            "right": null,
            "top": null,
            "visibility": null,
            "width": null
          }
        },
        "4cd4b3c99ba7412a9cc12c95c24a6dc0": {
          "model_module": "@jupyter-widgets/controls",
          "model_name": "DescriptionStyleModel",
          "model_module_version": "1.5.0",
          "state": {
            "_model_module": "@jupyter-widgets/controls",
            "_model_module_version": "1.5.0",
            "_model_name": "DescriptionStyleModel",
            "_view_count": null,
            "_view_module": "@jupyter-widgets/base",
            "_view_module_version": "1.2.0",
            "_view_name": "StyleView",
            "description_width": ""
          }
        }
      }
    }
  },
  "cells": [
    {
      "cell_type": "markdown",
      "metadata": {
        "id": "view-in-github",
        "colab_type": "text"
      },
      "source": [
        "<a href=\"https://colab.research.google.com/github/promihamid/CSE468/blob/main/cifar100_vit.ipynb\" target=\"_parent\"><img src=\"https://colab.research.google.com/assets/colab-badge.svg\" alt=\"Open In Colab\"/></a>"
      ]
    },
    {
      "cell_type": "code",
      "source": [
        "# ---------- PART 1: SETUP ----------\n",
        "# Install timm (PyTorch image models library)\n",
        "!pip install -q timm\n",
        "\n",
        "# Import necessary libraries\n",
        "import os\n",
        "import math\n",
        "import time\n",
        "from pathlib import Path\n",
        "\n",
        "import torch\n",
        "import torch.nn as nn\n",
        "import torch.nn.functional as F\n",
        "from torch.utils.data import DataLoader\n",
        "import torchvision\n",
        "from torchvision import transforms\n",
        "import timm\n",
        "import numpy as np\n",
        "import matplotlib.pyplot as plt\n",
        "from tqdm import tqdm\n"
      ],
      "metadata": {
        "id": "HT80tuHfucxL"
      },
      "execution_count": 7,
      "outputs": []
    },
    {
      "cell_type": "code",
      "source": [
        "# ---------- PART 2: CONFIGURATION ----------\n",
        "from pathlib import Path\n",
        "import torch\n",
        "\n",
        "# Dataset / model choice\n",
        "DATASET = \"CIFAR100\"               # we're using CIFAR-100\n",
        "NUM_CLASSES = 100\n",
        "\n",
        "# Model (timm model name). Change to \"vit_small_patch16_224\" if GPU is tight.\n",
        "MODEL_NAME = \"vit_base_patch16_224\"\n",
        "PRETRAINED = True                  # use pretrained weights (important for good perf ≤20 epochs)\n",
        "\n",
        "# Image & batch params\n",
        "IMG_SIZE = 224                     # ViT standard input size (resize CIFAR images)\n",
        "BATCH_SIZE = 128                   # increase if you have more GPU memory\n",
        "NUM_WORKERS = 4                    # DataLoader workers (set 0 on some Windows/Colab issues)\n",
        "\n",
        "# Training schedule (must be <=20 per your requirement)\n",
        "EPOCHS = 20\n",
        "LR = 3e-4                          # base learning rate (AdamW)\n",
        "WEIGHT_DECAY = 0.05                # AdamW weight decay\n",
        "MIXUP_ALPHA = 0.8                  # set 0 to disable mixup\n",
        "LABEL_SMOOTH = 0.1                 # label smoothing for CE\n",
        "DROP_PATH_RATE = 0.0               # for models that support stochastic depth (keep 0-0.2)\n",
        "\n",
        "# Misc\n",
        "DEVICE = \"cuda\" if torch.cuda.is_available() else \"cpu\"\n",
        "OUT_DIR = Path(\"checkpoints\")\n",
        "OUT_DIR.mkdir(exist_ok=True)\n",
        "PRINT_FREQ = 1                      # how often to print logs (in loops using tqdm we show progress)\n",
        "\n",
        "# Mixed precision (helps increase batch size without OOM)\n",
        "USE_AMP = True                       # set False if you want plain fp32 training\n",
        "\n",
        "# Reproducibility (optional)\n",
        "SEED = 42\n",
        "\n",
        "# Print summary\n",
        "print(f\"Dataset: {DATASET} | Model: {MODEL_NAME} | IMG_SIZE: {IMG_SIZE} | Batch: {BATCH_SIZE} | Epochs: {EPOCHS}\")\n",
        "print(f\"Device: {DEVICE} | Pretrained: {PRETRAINED} | AMP: {USE_AMP}\")\n"
      ],
      "metadata": {
        "colab": {
          "base_uri": "https://localhost:8080/"
        },
        "id": "vZH6IeeSuczf",
        "outputId": "dd357a07-5677-414d-fe68-50184d88f41d"
      },
      "execution_count": 8,
      "outputs": [
        {
          "output_type": "stream",
          "name": "stdout",
          "text": [
            "Dataset: CIFAR100 | Model: vit_base_patch16_224 | IMG_SIZE: 224 | Batch: 128 | Epochs: 20\n",
            "Device: cuda | Pretrained: True | AMP: True\n"
          ]
        }
      ]
    },
    {
      "cell_type": "code",
      "source": [
        "# ---------- PART 3: DATA TRANSFORMS & DATALOADERS ----------\n",
        "import torchvision\n",
        "from torchvision import transforms\n",
        "from torch.utils.data import DataLoader\n",
        "import numpy as np\n",
        "import torch\n",
        "\n",
        "# CIFAR-100 channel stats (used for normalization)\n",
        "CIFAR100_MEAN = (0.5071, 0.4867, 0.4408)\n",
        "CIFAR100_STD  = (0.2675, 0.2565, 0.2761)\n",
        "\n",
        "# TRAIN transforms: resize -> augment -> tensor -> normalize\n",
        "train_transforms = transforms.Compose([\n",
        "    transforms.Resize((IMG_SIZE, IMG_SIZE)),         # ViT expects bigger size than 32x32\n",
        "    transforms.RandomHorizontalFlip(p=0.5),\n",
        "    transforms.RandomCrop(IMG_SIZE, padding=4),\n",
        "    transforms.RandAugment(num_ops=2, magnitude=9), # strong augmentation to avoid overfit\n",
        "    transforms.ToTensor(),\n",
        "    transforms.Normalize(CIFAR100_MEAN, CIFAR100_STD),\n",
        "])\n",
        "\n",
        "# VAL / TEST transforms: deterministic\n",
        "val_transforms = transforms.Compose([\n",
        "    transforms.Resize((IMG_SIZE, IMG_SIZE)),\n",
        "    transforms.ToTensor(),\n",
        "    transforms.Normalize(CIFAR100_MEAN, CIFAR100_STD),\n",
        "])\n",
        "\n",
        "# Load datasets (downloads if not present)\n",
        "if DATASET.upper() == \"CIFAR100\":\n",
        "    train_dataset = torchvision.datasets.CIFAR100(root=\"./data\", train=True, download=True, transform=train_transforms)\n",
        "    val_dataset   = torchvision.datasets.CIFAR100(root=\"./data\", train=False, download=True, transform=val_transforms)\n",
        "else:\n",
        "    raise ValueError(\"This script currently supports CIFAR100 for the mentor recipe. Change DATASET or add loader.\")\n",
        "\n",
        "# Dataloaders\n",
        "train_loader = DataLoader(train_dataset, batch_size=BATCH_SIZE, shuffle=True,\n",
        "                          num_workers=NUM_WORKERS, pin_memory=True, drop_last=True)\n",
        "val_loader   = DataLoader(val_dataset,   batch_size=BATCH_SIZE, shuffle=False,\n",
        "                          num_workers=NUM_WORKERS, pin_memory=True)\n",
        "\n",
        "print(f\"Train size: {len(train_dataset)} | Val size: {len(val_dataset)} | Batches/train: {len(train_loader)}\")\n",
        "\n",
        "# ---------- MixUp helper ----------\n",
        "def mixup_data(x, y, alpha=MIXUP_ALPHA, device=DEVICE):\n",
        "    \"\"\"\n",
        "    Returns mixed inputs, pairs of targets, and lambda.\n",
        "    If alpha <= 0, returns original inputs and labels (no mixup).\n",
        "    \"\"\"\n",
        "    if alpha is None or alpha <= 0:\n",
        "        return x, y, None, 1.0\n",
        "    lam = np.random.beta(alpha, alpha)\n",
        "    batch_size = x.size(0)\n",
        "    index = torch.randperm(batch_size).to(device)\n",
        "    mixed_x = lam * x + (1 - lam) * x[index, :]\n",
        "    y_a, y_b = y, y[index]\n",
        "    return mixed_x, y_a, y_b, lam\n"
      ],
      "metadata": {
        "colab": {
          "base_uri": "https://localhost:8080/"
        },
        "id": "_-X3xnCVuc10",
        "outputId": "ee70925d-8285-4980-83de-1b56b366b575"
      },
      "execution_count": 9,
      "outputs": [
        {
          "output_type": "stream",
          "name": "stdout",
          "text": [
            "Train size: 50000 | Val size: 10000 | Batches/train: 390\n"
          ]
        },
        {
          "output_type": "stream",
          "name": "stderr",
          "text": [
            "/usr/local/lib/python3.12/dist-packages/torch/utils/data/dataloader.py:627: UserWarning: This DataLoader will create 4 worker processes in total. Our suggested max number of worker in current system is 2, which is smaller than what this DataLoader is going to create. Please be aware that excessive worker creation might get DataLoader running slow or even freeze, lower the worker number to avoid potential slowness/freeze if necessary.\n",
            "  warnings.warn(\n"
          ]
        }
      ]
    },
    {
      "cell_type": "code",
      "source": [
        "# ---------- PART 4: MODEL, OPTIM, SCHEDULER, LOSS ----------\n",
        "import timm\n",
        "import torch\n",
        "import torch.nn as nn\n",
        "import math\n",
        "\n",
        "# ----- Create model -----\n",
        "model = timm.create_model(MODEL_NAME, pretrained=PRETRAINED, num_classes=NUM_CLASSES)\n",
        "\n",
        "# If the model has a classifier we can add dropout to head to help regularize.\n",
        "# Different timm models expose different names; this is a safe attempt.\n",
        "def add_dropout_to_head(m, p=0.1):\n",
        "    \"\"\"\n",
        "    Wrap the classifier head with (Dropout -> Linear) if possible.\n",
        "    If no compatible attribute found, this routine is a no-op.\n",
        "    \"\"\"\n",
        "    p = float(p)\n",
        "    # common names: 'head', 'fc', 'classifier', 'head.fc', 'pre_logits'...\n",
        "    if hasattr(m, 'head') and isinstance(m.head, nn.Linear):\n",
        "        m.head = nn.Sequential(nn.Dropout(p), m.head)\n",
        "    elif hasattr(m, 'fc') and isinstance(m.fc, nn.Linear):\n",
        "        m.fc = nn.Sequential(nn.Dropout(p), m.fc)\n",
        "    elif hasattr(m, 'classifier') and isinstance(m.classifier, nn.Linear):\n",
        "        m.classifier = nn.Sequential(nn.Dropout(p), m.classifier)\n",
        "    else:\n",
        "        # Try reset_classifier if available (timm models often support it)\n",
        "        try:\n",
        "            # reset_classifier accepts num_classes and optionally drop_rate\n",
        "            m.reset_classifier(num_classes=NUM_CLASSES, global_pool='avg')\n",
        "            if hasattr(m, 'head'):\n",
        "                m.head = nn.Sequential(nn.Dropout(p), m.head)\n",
        "        except Exception:\n",
        "            # fallback: no modification\n",
        "            pass\n",
        "\n",
        "# Add small dropout on head if you want extra regularization\n",
        "HEAD_DROPOUT = 0.1   # set to 0.0 to disable\n",
        "if HEAD_DROPOUT > 0:\n",
        "    add_dropout_to_head(model, p=HEAD_DROPOUT)\n",
        "\n",
        "# Move to device\n",
        "model = model.to(DEVICE)\n",
        "\n",
        "# Print model size / param count\n",
        "def count_params(m):\n",
        "    return sum(p.numel() for p in m.parameters() if p.requires_grad)\n",
        "print(f\"Model: {MODEL_NAME} | Params (trainable): {count_params(model):,}\")\n",
        "\n",
        "# ----- Loss -----\n",
        "# Use label smoothing for CrossEntropy (beneficial when not using mixup)\n",
        "criterion = nn.CrossEntropyLoss(label_smoothing=LABEL_SMOOTH).to(DEVICE)\n",
        "\n",
        "# ----- Optimizer -----\n",
        "optimizer = torch.optim.AdamW(model.parameters(), lr=LR, weight_decay=WEIGHT_DECAY)\n",
        "\n",
        "# ----- Scheduler: Cosine with warmup (per-step lambda LR) -----\n",
        "def get_cosine_with_warmup(optimizer, num_epochs, steps_per_epoch, warmup_epochs=2):\n",
        "    total_steps = num_epochs * steps_per_epoch\n",
        "    warmup_steps = int(warmup_epochs * steps_per_epoch)\n",
        "    def lr_lambda(current_step):\n",
        "        if current_step < warmup_steps:\n",
        "            return float(current_step) / float(max(1, warmup_steps))\n",
        "        progress = float(current_step - warmup_steps) / float(max(1, total_steps - warmup_steps))\n",
        "        return 0.5 * (1.0 + math.cos(math.pi * progress))\n",
        "    return torch.optim.lr_scheduler.LambdaLR(optimizer, lr_lambda)\n",
        "\n",
        "scheduler = get_cosine_with_warmup(optimizer, num_epochs=EPOCHS, steps_per_epoch=len(train_loader), warmup_epochs=2)\n",
        "\n",
        "# ----- AMP scaler for mixed precision -----\n",
        "scaler = torch.cuda.amp.GradScaler(enabled=USE_AMP and DEVICE.startswith(\"cuda\"))\n",
        "\n",
        "print(\"Setup complete: optimizer, scheduler, criterion, AMP scaler ready.\")\n"
      ],
      "metadata": {
        "colab": {
          "base_uri": "https://localhost:8080/",
          "height": 243,
          "referenced_widgets": [
            "f8b91ddfd718432189fa49420a5be76b",
            "2481be2e8da8496ca9c1094ae65ba4fc",
            "3a10e50adeed4525a5e1d13d3f63d2b8",
            "42a75af622a84a4eb3392189896fb561",
            "3e25f335807843aebe8adab2b9a66071",
            "12985a2bfc1e47479860c86d393fb57c",
            "de3346757fb64962b565762a3073c366",
            "b70cc367dba34a16b8471efd3fa46f06",
            "0127eeb6fc23413bb69cb512b05f3922",
            "05c64d3818264ea4b6dacec9266d7a4e",
            "4cd4b3c99ba7412a9cc12c95c24a6dc0"
          ]
        },
        "id": "AHEFv60quc4L",
        "outputId": "58d9d8bb-c902-45a4-8719-e933974b360c"
      },
      "execution_count": 10,
      "outputs": [
        {
          "output_type": "stream",
          "name": "stderr",
          "text": [
            "/usr/local/lib/python3.12/dist-packages/huggingface_hub/utils/_auth.py:94: UserWarning: \n",
            "The secret `HF_TOKEN` does not exist in your Colab secrets.\n",
            "To authenticate with the Hugging Face Hub, create a token in your settings tab (https://huggingface.co/settings/tokens), set it as secret in your Google Colab and restart your session.\n",
            "You will be able to reuse this secret in all of your notebooks.\n",
            "Please note that authentication is recommended but still optional to access public models or datasets.\n",
            "  warnings.warn(\n"
          ]
        },
        {
          "output_type": "display_data",
          "data": {
            "text/plain": [
              "model.safetensors:   0%|          | 0.00/346M [00:00<?, ?B/s]"
            ],
            "application/vnd.jupyter.widget-view+json": {
              "version_major": 2,
              "version_minor": 0,
              "model_id": "f8b91ddfd718432189fa49420a5be76b"
            }
          },
          "metadata": {}
        },
        {
          "output_type": "stream",
          "name": "stdout",
          "text": [
            "Model: vit_base_patch16_224 | Params (trainable): 85,875,556\n",
            "Setup complete: optimizer, scheduler, criterion, AMP scaler ready.\n"
          ]
        },
        {
          "output_type": "stream",
          "name": "stderr",
          "text": [
            "/tmp/ipython-input-4100377002.py:70: FutureWarning: `torch.cuda.amp.GradScaler(args...)` is deprecated. Please use `torch.amp.GradScaler('cuda', args...)` instead.\n",
            "  scaler = torch.cuda.amp.GradScaler(enabled=USE_AMP and DEVICE.startswith(\"cuda\"))\n"
          ]
        }
      ]
    },
    {
      "cell_type": "code",
      "source": [
        "# ---------- PART 5a: METRICS & UTILITIES ----------\n",
        "import torch\n",
        "import torch.nn.functional as F\n",
        "from pathlib import Path\n",
        "\n",
        "# Top-k accuracy (returns percentages)\n",
        "def accuracy_topk(output, target, topk=(1,5)):\n",
        "    \"\"\"\n",
        "    output: (B, C) logits\n",
        "    target: (B,) long\n",
        "    returns: list of floats corresponding to topk accuracies in percent\n",
        "    \"\"\"\n",
        "    with torch.no_grad():\n",
        "        maxk = max(topk)\n",
        "        batch_size = target.size(0)\n",
        "        _, pred = output.topk(maxk, 1, True, True)   # (B, maxk)\n",
        "        pred = pred.t()                              # (maxk, B)\n",
        "        correct = pred.eq(target.view(1, -1).expand_as(pred))\n",
        "        res = []\n",
        "        for k in topk:\n",
        "            correct_k = correct[:k].reshape(-1).float().sum(0, keepdim=True)\n",
        "            res.append(float(correct_k.mul_(100.0 / batch_size)))\n",
        "    return res\n",
        "\n",
        "# Safe checkpoint save helper (saves model + optimizer states)\n",
        "def save_checkpoint(path, model, optimizer, epoch, val_top5):\n",
        "    path = Path(path)\n",
        "    try:\n",
        "        torch.save({\n",
        "            \"epoch\": epoch,\n",
        "            \"model_state\": model.state_dict(),\n",
        "            \"optimizer_state\": optimizer.state_dict(),\n",
        "            \"val_top5\": val_top5,\n",
        "        }, path)\n",
        "        print(f\"Saved checkpoint: {path}\")\n",
        "    except Exception as e:\n",
        "        print(\"Warning: checkpoint save failed:\", e)\n"
      ],
      "metadata": {
        "id": "SzXBONecuc6R"
      },
      "execution_count": 11,
      "outputs": []
    },
    {
      "cell_type": "code",
      "source": [
        "# ---------- PART 5b: SINGLE TRAIN STEP ----------\n",
        "def train_step(model, optimizer, images, targets, criterion, scaler=None, use_amp=True, mixup_alpha=0.0, device=\"cuda\"):\n",
        "    \"\"\"\n",
        "    Performs forward, backward, optimizer step for one batch.\n",
        "    Returns: loss (float), top1 (float %), top5 (float %)\n",
        "    \"\"\"\n",
        "    model.train()\n",
        "    images = images.to(device); targets = targets.to(device)\n",
        "\n",
        "    # MixUp (returns mixed inputs and two label sets + lambda)\n",
        "    if mixup_alpha and mixup_alpha > 0:\n",
        "        lam = np.random.beta(mixup_alpha, mixup_alpha)\n",
        "        idx = torch.randperm(images.size(0)).to(device)\n",
        "        images_m = lam * images + (1 - lam) * images[idx]\n",
        "        targets_a, targets_b = targets, targets[idx]\n",
        "    else:\n",
        "        lam = None\n",
        "        images_m = images\n",
        "        targets_a = targets_b = None\n",
        "\n",
        "    optimizer.zero_grad()\n",
        "    with torch.cuda.amp.autocast(enabled=(use_amp and device.startswith(\"cuda\"))):\n",
        "        outputs = model(images_m)\n",
        "        if lam is not None:\n",
        "            loss = lam * F.cross_entropy(outputs, targets_a) + (1 - lam) * F.cross_entropy(outputs, targets_b)\n",
        "        else:\n",
        "            loss = criterion(outputs, targets)\n",
        "\n",
        "    # Backward + step\n",
        "    if scaler is not None:\n",
        "        scaler.scale(loss).backward()\n",
        "        scaler.step(optimizer)\n",
        "        scaler.update()\n",
        "    else:\n",
        "        loss.backward()\n",
        "        optimizer.step()\n",
        "\n",
        "    # Compute metrics on the original targets (for reporting)\n",
        "    top1, top5 = accuracy_topk(outputs.detach(), targets, topk=(1,5))\n",
        "    return float(loss.item()), top1, top5\n"
      ],
      "metadata": {
        "id": "hSFvKjtXvgXv"
      },
      "execution_count": 12,
      "outputs": []
    },
    {
      "cell_type": "code",
      "source": [
        "# ---------- PART 5c: TRAINING EPOCH ----------\n",
        "from tqdm import tqdm\n",
        "def train_one_epoch(model, train_loader, optimizer, criterion, scaler, scheduler=None,\n",
        "                    use_amp=True, mixup_alpha=0.0, device=\"cuda\"):\n",
        "    model.train()\n",
        "    running_loss = 0.0\n",
        "    running_top1 = 0.0\n",
        "    running_top5 = 0.0\n",
        "    n = 0\n",
        "\n",
        "    pbar = tqdm(train_loader, desc=\"Train\", leave=False)\n",
        "    for images, targets in pbar:\n",
        "        loss, top1, top5 = train_step(model, optimizer, images, targets, criterion,\n",
        "                                      scaler=scaler, use_amp=use_amp, mixup_alpha=mixup_alpha, device=device)\n",
        "        bs = images.size(0)\n",
        "        running_loss += loss * bs\n",
        "        running_top1 += (top1/100.0) * bs\n",
        "        running_top5 += (top5/100.0) * bs\n",
        "        n += bs\n",
        "\n",
        "        # scheduler step per batch (if provided)\n",
        "        if scheduler is not None:\n",
        "            try:\n",
        "                scheduler.step()\n",
        "            except Exception:\n",
        "                pass\n",
        "\n",
        "        pbar.set_postfix(loss=f\"{running_loss/n:.4f}\", top1=f\"{100*running_top1/n:.2f}\", top5=f\"{100*running_top5/n:.2f}\")\n",
        "\n",
        "    train_loss = running_loss / n\n",
        "    train_top1 = 100 * running_top1 / n\n",
        "    train_top5 = 100 * running_top5 / n\n",
        "    return train_loss, train_top1, train_top5\n"
      ],
      "metadata": {
        "id": "5D4fIs5QvgPF"
      },
      "execution_count": 13,
      "outputs": []
    },
    {
      "cell_type": "code",
      "source": [
        "# ---------- PART 5d: VALIDATION EPOCH ----------\n",
        "def validate_one_epoch(model, val_loader, criterion, use_amp=True, device=\"cuda\"):\n",
        "    model.eval()\n",
        "    val_loss = 0.0\n",
        "    val_top1 = 0.0\n",
        "    val_top5 = 0.0\n",
        "    n = 0\n",
        "    with torch.no_grad():\n",
        "        pbar = tqdm(val_loader, desc=\"Val\", leave=False)\n",
        "        for images, targets in pbar:\n",
        "            images = images.to(device); targets = targets.to(device)\n",
        "            with torch.cuda.amp.autocast(enabled=(use_amp and device.startswith(\"cuda\"))):\n",
        "                outputs = model(images)\n",
        "                loss = criterion(outputs, targets)\n",
        "            top1, top5 = accuracy_topk(outputs, targets, topk=(1,5))\n",
        "            bs = images.size(0)\n",
        "            val_loss += float(loss.item()) * bs\n",
        "            val_top1 += (top1/100.0) * bs\n",
        "            val_top5 += (top5/100.0) * bs\n",
        "            n += bs\n",
        "            pbar.set_postfix(vloss=f\"{val_loss/n:.4f}\", vtop1=f\"{100*val_top1/n:.2f}\", vtop5=f\"{100*val_top5/n:.2f}\")\n",
        "\n",
        "    val_loss = val_loss / n\n",
        "    val_top1 = 100 * val_top1 / n\n",
        "    val_top5 = 100 * val_top5 / n\n",
        "    return val_loss, val_top1, val_top5\n"
      ],
      "metadata": {
        "id": "Pj_F7Qtbuc83"
      },
      "execution_count": 14,
      "outputs": []
    },
    {
      "cell_type": "code",
      "source": [
        "# ---------- PART 5e: EPOCH LOOP (orchestration) ----------\n",
        "PATIENCE = 6\n",
        "best_val_top5 = 0.0\n",
        "best_epoch = -1\n",
        "no_improve = 0\n",
        "\n",
        "history = {\"train_loss\":[], \"train_top1\":[], \"train_top5\":[], \"val_loss\":[], \"val_top1\":[], \"val_top5\":[]}\n",
        "\n",
        "for epoch in range(1, EPOCHS+1):\n",
        "    print(f\"\\n=== Epoch {epoch}/{EPOCHS} ===\")\n",
        "    t0 = time.time()\n",
        "    # Train\n",
        "    train_loss, train_top1, train_top5 = train_one_epoch(\n",
        "        model, train_loader, optimizer, criterion, scaler, scheduler,\n",
        "        use_amp=USE_AMP, mixup_alpha=MIXUP_ALPHA, device=DEVICE\n",
        "    )\n",
        "\n",
        "    # Validate\n",
        "    val_loss, val_top1, val_top5 = validate_one_epoch(\n",
        "        model, val_loader, criterion, use_amp=USE_AMP, device=DEVICE\n",
        "    )\n",
        "\n",
        "    history[\"train_loss\"].append(train_loss); history[\"train_top1\"].append(train_top1); history[\"train_top5\"].append(train_top5)\n",
        "    history[\"val_loss\"].append(val_loss); history[\"val_top1\"].append(val_top1); history[\"val_top5\"].append(val_top5)\n",
        "\n",
        "    elapsed = time.time() - t0\n",
        "    print(f\"Epoch {epoch} done in {elapsed:.1f}s | train_loss={train_loss:.4f} train_top1={train_top1:.2f} train_top5={train_top5:.2f} | val_loss={val_loss:.4f} val_top1={val_top1:.2f} val_top5={val_top5:.2f}\")\n",
        "\n",
        "    # Checkpointing by val_top5\n",
        "    if val_top5 > best_val_top5 + 1e-6:\n",
        "        best_val_top5 = val_top5\n",
        "        best_epoch = epoch\n",
        "        no_improve = 0\n",
        "        save_checkpoint(OUT_DIR / f\"best_vtop5_epoch{epoch:.2f}.pth\", model, optimizer, epoch, val_top5)\n",
        "    else:\n",
        "        no_improve += 1\n",
        "\n",
        "    # Early stopping\n",
        "    if no_improve >= PATIENCE:\n",
        "        print(f\"No improvement for {PATIENCE} epochs, stopping early. Best val_top5={best_val_top5:.2f} at epoch {best_epoch}\")\n",
        "        break\n",
        "\n",
        "print(f\"Training finished. Best val_top5={best_val_top5:.2f} at epoch {best_epoch}\")\n"
      ],
      "metadata": {
        "colab": {
          "base_uri": "https://localhost:8080/"
        },
        "id": "3r06u4GDudAR",
        "outputId": "08ffa712-2634-44e8-928d-1ef3de235f76"
      },
      "execution_count": 15,
      "outputs": [
        {
          "output_type": "stream",
          "name": "stdout",
          "text": [
            "\n",
            "=== Epoch 1/20 ===\n"
          ]
        },
        {
          "output_type": "stream",
          "name": "stderr",
          "text": [
            "\rTrain:   0%|          | 0/390 [00:00<?, ?it/s]/tmp/ipython-input-2094954457.py:22: FutureWarning: `torch.cuda.amp.autocast(args...)` is deprecated. Please use `torch.amp.autocast('cuda', args...)` instead.\n",
            "  with torch.cuda.amp.autocast(enabled=(use_amp and device.startswith(\"cuda\"))):\n",
            "Val:   0%|          | 0/79 [00:00<?, ?it/s]/tmp/ipython-input-3615490225.py:12: FutureWarning: `torch.cuda.amp.autocast(args...)` is deprecated. Please use `torch.amp.autocast('cuda', args...)` instead.\n",
            "  with torch.cuda.amp.autocast(enabled=(use_amp and device.startswith(\"cuda\"))):\n"
          ]
        },
        {
          "output_type": "stream",
          "name": "stdout",
          "text": [
            "Epoch 1 done in 453.3s | train_loss=2.5112 train_top1=27.69 train_top5=44.39 | val_loss=1.3551 val_top1=82.36 val_top5=97.63\n",
            "Saved checkpoint: checkpoints/best_vtop5_epoch1.00.pth\n",
            "\n",
            "=== Epoch 2/20 ===\n"
          ]
        },
        {
          "output_type": "stream",
          "name": "stderr",
          "text": []
        },
        {
          "output_type": "stream",
          "name": "stdout",
          "text": [
            "Epoch 2 done in 448.8s | train_loss=2.0292 train_top1=35.20 train_top5=54.73 | val_loss=1.4287 val_top1=79.20 val_top5=96.33\n",
            "\n",
            "=== Epoch 3/20 ===\n"
          ]
        },
        {
          "output_type": "stream",
          "name": "stderr",
          "text": []
        },
        {
          "output_type": "stream",
          "name": "stdout",
          "text": [
            "Epoch 3 done in 447.2s | train_loss=1.9993 train_top1=38.59 train_top5=58.18 | val_loss=1.3735 val_top1=80.37 val_top5=96.67\n",
            "\n",
            "=== Epoch 4/20 ===\n"
          ]
        },
        {
          "output_type": "stream",
          "name": "stderr",
          "text": []
        },
        {
          "output_type": "stream",
          "name": "stdout",
          "text": [
            "Epoch 4 done in 447.3s | train_loss=1.9434 train_top1=40.33 train_top5=60.89 | val_loss=1.3971 val_top1=79.69 val_top5=96.42\n",
            "\n",
            "=== Epoch 5/20 ===\n"
          ]
        },
        {
          "output_type": "stream",
          "name": "stderr",
          "text": []
        },
        {
          "output_type": "stream",
          "name": "stdout",
          "text": [
            "Epoch 5 done in 447.7s | train_loss=1.8414 train_top1=38.87 train_top5=59.48 | val_loss=1.3449 val_top1=81.94 val_top5=96.90\n",
            "\n",
            "=== Epoch 6/20 ===\n"
          ]
        },
        {
          "output_type": "stream",
          "name": "stderr",
          "text": []
        },
        {
          "output_type": "stream",
          "name": "stdout",
          "text": [
            "Epoch 6 done in 446.5s | train_loss=1.7680 train_top1=42.32 train_top5=63.48 | val_loss=1.3484 val_top1=82.33 val_top5=96.78\n",
            "\n",
            "=== Epoch 7/20 ===\n"
          ]
        },
        {
          "output_type": "stream",
          "name": "stderr",
          "text": [
            "                                                                                            "
          ]
        },
        {
          "output_type": "stream",
          "name": "stdout",
          "text": [
            "Epoch 7 done in 447.0s | train_loss=1.6866 train_top1=41.36 train_top5=62.31 | val_loss=1.3072 val_top1=83.01 val_top5=97.06\n",
            "No improvement for 6 epochs, stopping early. Best val_top5=97.63 at epoch 1\n",
            "Training finished. Best val_top5=97.63 at epoch 1\n"
          ]
        },
        {
          "output_type": "stream",
          "name": "stderr",
          "text": [
            "\r"
          ]
        }
      ]
    },
    {
      "cell_type": "code",
      "source": [
        "# ---------- PART 5f: FINAL EVAL & PLOTS ----------\n",
        "# Load best checkpoint if available\n",
        "best_ckpts = sorted(OUT_DIR.glob(\"best_vtop5_epoch*.pth\"))\n",
        "if best_ckpts:\n",
        "    ckpt = torch.load(best_ckpts[-1], map_location=DEVICE)\n",
        "    model.load_state_dict(ckpt[\"model_state\"])\n",
        "    print(f\"Loaded best checkpoint from epoch {ckpt.get('epoch', '?')} with val_top5={ckpt.get('val_top5', '?'):.2f}\")\n",
        "\n",
        "# Final evaluation\n",
        "test_loss, test_top1, test_top5 = validate_one_epoch(model, val_loader, criterion, use_amp=USE_AMP, device=DEVICE)\n",
        "print(f\"\\nFINAL: loss={test_loss:.4f} | top1={test_top1:.2f}% | top5={test_top5:.2f}%\")\n",
        "\n",
        "\n"
      ],
      "metadata": {
        "colab": {
          "base_uri": "https://localhost:8080/"
        },
        "id": "hh4yiA5EvqFa",
        "outputId": "64d325d1-ae82-4742-811b-b029d0459bc2"
      },
      "execution_count": 16,
      "outputs": [
        {
          "output_type": "stream",
          "name": "stdout",
          "text": [
            "Loaded best checkpoint from epoch 1 with val_top5=97.63\n"
          ]
        },
        {
          "output_type": "stream",
          "name": "stderr",
          "text": [
            "\rVal:   0%|          | 0/79 [00:00<?, ?it/s]/tmp/ipython-input-3615490225.py:12: FutureWarning: `torch.cuda.amp.autocast(args...)` is deprecated. Please use `torch.amp.autocast('cuda', args...)` instead.\n",
            "  with torch.cuda.amp.autocast(enabled=(use_amp and device.startswith(\"cuda\"))):\n",
            "                                                                                            "
          ]
        },
        {
          "output_type": "stream",
          "name": "stdout",
          "text": [
            "\n",
            "FINAL: loss=1.3551 | top1=82.36% | top5=97.63%\n"
          ]
        },
        {
          "output_type": "stream",
          "name": "stderr",
          "text": [
            "\r"
          ]
        }
      ]
    },
    {
      "cell_type": "code",
      "source": [
        "# Plotting\n",
        "import matplotlib.pyplot as plt\n",
        "plt.figure(figsize=(12,4))\n",
        "plt.subplot(1,2,1)\n",
        "plt.plot(history[\"train_loss\"], label=\"train_loss\")\n",
        "plt.plot(history[\"val_loss\"], label=\"val_loss\")\n",
        "plt.xlabel(\"Epoch\"); plt.ylabel(\"Loss\"); plt.title(\"Loss\"); plt.legend()\n",
        "\n",
        "plt.subplot(1,2,2)\n",
        "plt.plot(history[\"train_top1\"], label=\"train_top1\")\n",
        "plt.plot(history[\"val_top1\"], label=\"val_top1\")\n",
        "plt.plot(history[\"train_top5\"], label=\"train_top5\")\n",
        "plt.plot(history[\"val_top5\"], label=\"val_top5\")\n",
        "plt.xlabel(\"Epoch\"); plt.ylabel(\"Accuracy (%)\"); plt.title(\"Top-1 / Top-5 Acc\"); plt.legend()\n",
        "plt.tight_layout()\n",
        "plt.show()"
      ],
      "metadata": {
        "colab": {
          "base_uri": "https://localhost:8080/",
          "height": 407
        },
        "id": "AAug0LT171OW",
        "outputId": "2291e784-d706-4698-94c1-94b44e3cd817"
      },
      "execution_count": 17,
      "outputs": [
        {
          "output_type": "display_data",
          "data": {
            "text/plain": [
              "<Figure size 1200x400 with 2 Axes>"
            ],
            "image/png": "[encoded data removed]"
          },
          "metadata": {}
        }
      ]
    },
    {
      "cell_type": "code",
      "source": [],
      "metadata": {
        "id": "9Cpkmbn889oi"
      },
      "execution_count": null,
      "outputs": []
    },
    {
      "cell_type": "code",
      "source": [],
      "metadata": {
        "id": "TqjQX7OR9eHE"
      },
      "execution_count": null,
      "outputs": []
    }
  ]
}